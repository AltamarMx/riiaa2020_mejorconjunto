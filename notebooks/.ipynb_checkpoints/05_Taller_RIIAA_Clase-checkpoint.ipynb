{
 "cells": [
  {
   "cell_type": "code",
   "execution_count": 9,
   "metadata": {},
   "outputs": [],
   "source": [
    "import pandas as pd\n",
    "import matplotlib.pyplot as plt\n",
    "from dateutil.parser import parse"
   ]
  },
  {
   "cell_type": "code",
   "execution_count": 10,
   "metadata": {},
   "outputs": [
    {
     "data": {
      "text/plain": [
       "Index(['Ti_ae', 'Ti_bm', 'Ti_ca', 'Ti_za', 'Ti', 'To_esolmet'], dtype='object')"
      ]
     },
     "execution_count": 10,
     "metadata": {},
     "output_type": "execute_result"
    }
   ],
   "source": [
    "archivo = '../data/metrics/todos.csv'\n",
    "datos = pd.read_csv(archivo,index_col=0,parse_dates=True)\n",
    "datos.columns"
   ]
  },
  {
   "cell_type": "code",
   "execution_count": null,
   "metadata": {},
   "outputs": [],
   "source": []
  },
  {
   "cell_type": "code",
   "execution_count": 14,
   "metadata": {},
   "outputs": [],
   "source": [
    "class compara:\n",
    "    def __init__(self, datos,simulados,Ti,To):\n",
    "        self.datos        = datos\n",
    "        self.simulados    = simulados\n",
    "        self.To           = To\n",
    "        self.Ti           = Ti\n",
    "    def pearson(self):\n",
    "        lista = []\n",
    "        for simulado in self.simulados:\n",
    "            lista.append(self.datos[self.Ti].corr(self.datos[simulado]))\n",
    "        indice = lista.index(max(lista))\n",
    "        print(self.simulados[indice],lista[indice])\n",
    "    def pearson_all(self):\n",
    "        print(self.datos.corr())\n",
    "        \n",
    "    def rmse(self):\n",
    "        lista = []\n",
    "        for simulado in self.simulados:\n",
    "            lista.append(((self.datos[simulado] - self.datos[self.Ti])**2).mean()**.5)\n",
    "        indice = lista.index(min(lista))\n",
    "        print(self.simulados[indice],lista[indice]) \n",
    "    def rmse_all(self):\n",
    "        for simulado in self.simulados:\n",
    "            print(simulado,((self.datos[simulado] - self.datos[self.Ti])**2).mean()**.5)\n",
    "    def deltaTi(self):\n",
    "        lista = []\n",
    "        for simulado in self.simulados:\n",
    "            lista.append(abs((self.datos[simulado]-self.datos[self.Ti]).mean()))  # Corregir abs\n",
    "        indice = lista.index(min(lista))\n",
    "        print(self.simulados[indice],lista[indice]) \n",
    "    def deltaTi_all(self):\n",
    "        for simulado in self.simulados:\n",
    "            print(simulado,abs((self.datos[simulado]-self.datos[self.Ti]).mean()))\n",
    "    def deltaTimax(self):\n",
    "        for simulado in self.simulados:\n",
    "            pass"
   ]
  },
  {
   "cell_type": "code",
   "execution_count": 16,
   "metadata": {},
   "outputs": [
    {
     "data": {
      "text/plain": [
       "0.9602713574571723"
      ]
     },
     "execution_count": 16,
     "metadata": {},
     "output_type": "execute_result"
    }
   ],
   "source": [
    "datos.Ti.corr(datos.Ti_bm)"
   ]
  },
  {
   "cell_type": "code",
   "execution_count": 15,
   "metadata": {},
   "outputs": [
    {
     "name": "stdout",
     "output_type": "stream",
     "text": [
      "Ti_bm 0.9602713574571723\n"
     ]
    }
   ],
   "source": [
    "analisis = compara(datos,simulados=['Ti_ae', 'Ti_ca', 'Ti_bm', 'Ti_za'],Ti='Ti',To='To')\n",
    "analisis.pearson()"
   ]
  },
  {
   "cell_type": "code",
   "execution_count": 17,
   "metadata": {},
   "outputs": [
    {
     "name": "stdout",
     "output_type": "stream",
     "text": [
      "               Ti_ae     Ti_bm     Ti_ca     Ti_za        Ti  To_esolmet\n",
      "Ti_ae       1.000000  0.996277  0.995835  0.997703  0.954001    0.923042\n",
      "Ti_bm       0.996277  1.000000  0.993435  0.998669  0.960271    0.920212\n",
      "Ti_ca       0.995835  0.993435  1.000000  0.996510  0.957310    0.908577\n",
      "Ti_za       0.997703  0.998669  0.996510  1.000000  0.958498    0.914084\n",
      "Ti          0.954001  0.960271  0.957310  0.958498  1.000000    0.841916\n",
      "To_esolmet  0.923042  0.920212  0.908577  0.914084  0.841916    1.000000\n"
     ]
    }
   ],
   "source": [
    "analisis.pearson_all()"
   ]
  },
  {
   "cell_type": "code",
   "execution_count": 18,
   "metadata": {},
   "outputs": [
    {
     "name": "stdout",
     "output_type": "stream",
     "text": [
      "Ti_ca 0.6725802331188333\n"
     ]
    }
   ],
   "source": [
    "analisis.rmse()"
   ]
  },
  {
   "cell_type": "code",
   "execution_count": 19,
   "metadata": {},
   "outputs": [
    {
     "name": "stdout",
     "output_type": "stream",
     "text": [
      "Ti_ae 0.7016870535423132\n",
      "Ti_ca 0.6725802331188333\n",
      "Ti_bm 0.7862931616162211\n",
      "Ti_za 0.7026474945587221\n"
     ]
    }
   ],
   "source": [
    "analisis.rmse_all()"
   ]
  },
  {
   "cell_type": "code",
   "execution_count": 20,
   "metadata": {},
   "outputs": [
    {
     "name": "stdout",
     "output_type": "stream",
     "text": [
      "Ti_ae 0.20025024087804089\n"
     ]
    }
   ],
   "source": [
    "analisis.deltaTi()"
   ]
  },
  {
   "cell_type": "code",
   "execution_count": 21,
   "metadata": {},
   "outputs": [
    {
     "name": "stdout",
     "output_type": "stream",
     "text": [
      "Ti_ae 0.20025024087804089\n",
      "Ti_ca 0.24457550359105162\n",
      "Ti_bm 0.4152522581377036\n",
      "Ti_za 0.3117141560570335\n"
     ]
    }
   ],
   "source": [
    "analisis.deltaTi_all()"
   ]
  },
  {
   "cell_type": "code",
   "execution_count": null,
   "metadata": {},
   "outputs": [],
   "source": []
  },
  {
   "cell_type": "code",
   "execution_count": null,
   "metadata": {},
   "outputs": [],
   "source": []
  },
  {
   "cell_type": "markdown",
   "metadata": {},
   "source": [
    "# Diferencia promedio de las temperaturas m'aximas diarias"
   ]
  },
  {
   "cell_type": "code",
   "execution_count": null,
   "metadata": {},
   "outputs": [],
   "source": [
    "(datos.Ti_ae.resample(\"1D\").max() - datos.Ti.resample(\"1D\").max()).mean()"
   ]
  },
  {
   "cell_type": "code",
   "execution_count": null,
   "metadata": {},
   "outputs": [],
   "source": [
    "for i in nombres:\n",
    "    print(i,(datos[i].resample(\"1D\").max() - datos.Ti.resample(\"1D\").max()).mean())"
   ]
  },
  {
   "cell_type": "markdown",
   "metadata": {},
   "source": [
    "# Diferencia promedio de las temperaturas m'aximas diarias\n"
   ]
  },
  {
   "cell_type": "code",
   "execution_count": null,
   "metadata": {},
   "outputs": [],
   "source": [
    "for i in nombres:\n",
    "    print(i,(datos[i].resample(\"1D\").min() - datos.Ti.resample(\"1D\").min()).mean())"
   ]
  },
  {
   "cell_type": "markdown",
   "metadata": {},
   "source": [
    "# Diferencia promedio en el Factor de Decremento"
   ]
  },
  {
   "cell_type": "code",
   "execution_count": null,
   "metadata": {},
   "outputs": [],
   "source": [
    "df_s = (datos.Ti_ae.resample(\"1D\").max() - datos.Ti_ae.resample(\"1D\").min()) / (datos.To_esolmet.resample(\"1D\").max() - datos.To_esolmet.resample(\"1D\").min())\n",
    "df_e = (datos.Ti.resample(\"1D\").max() - datos.Ti.resample(\"1D\").min()) / (datos.To_esolmet.resample(\"1D\").max() - datos.To_esolmet.resample(\"1D\").min())\n",
    "\n",
    "(df_s - df_e).mean()"
   ]
  },
  {
   "cell_type": "code",
   "execution_count": null,
   "metadata": {},
   "outputs": [],
   "source": [
    "for i in nombres:\n",
    "    df_s = (datos[i].resample(\"1D\").max() - datos[i].resample(\"1D\").min()) / (datos.To_esolmet.resample(\"1D\").max() - datos.To_esolmet.resample(\"1D\").min())\n",
    "    df_e = (datos.Ti.resample(\"1D\").max() - datos.Ti.resample(\"1D\").min()) / (datos.To_esolmet.resample(\"1D\").max() - datos.To_esolmet.resample(\"1D\").min())\n",
    "\n",
    "    print(i,(df_s - df_e).mean())\n"
   ]
  },
  {
   "cell_type": "code",
   "execution_count": null,
   "metadata": {},
   "outputs": [],
   "source": []
  }
 ],
 "metadata": {
  "kernelspec": {
   "display_name": "Python 3",
   "language": "python",
   "name": "python3"
  },
  "language_info": {
   "codemirror_mode": {
    "name": "ipython",
    "version": 3
   },
   "file_extension": ".py",
   "mimetype": "text/x-python",
   "name": "python",
   "nbconvert_exporter": "python",
   "pygments_lexer": "ipython3",
   "version": "3.8.5"
  }
 },
 "nbformat": 4,
 "nbformat_minor": 4
}
