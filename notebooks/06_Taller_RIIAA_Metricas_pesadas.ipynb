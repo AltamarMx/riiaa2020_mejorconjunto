{
 "cells": [
  {
   "cell_type": "code",
   "execution_count": 1,
   "metadata": {},
   "outputs": [],
   "source": [
    "import pandas as pd\n",
    "import matplotlib.pyplot as plt\n",
    "from dateutil.parser import parse"
   ]
  },
  {
   "cell_type": "code",
   "execution_count": 2,
   "metadata": {},
   "outputs": [
    {
     "data": {
      "text/plain": [
       "Index(['Ti_ae', 'Ti_bm', 'Ti_ca', 'Ti_za', 'Ti', 'To_esolmet'], dtype='object')"
      ]
     },
     "execution_count": 2,
     "metadata": {},
     "output_type": "execute_result"
    }
   ],
   "source": [
    "archivo = '../data/metrics/todos.csv'\n",
    "datos = pd.read_csv(archivo,index_col=0,parse_dates=True)\n",
    "datos.columns"
   ]
  },
  {
   "cell_type": "code",
   "execution_count": 3,
   "metadata": {},
   "outputs": [],
   "source": [
    "datos[\"Ti2\"] = datos.Ti + 2"
   ]
  },
  {
   "cell_type": "code",
   "execution_count": 4,
   "metadata": {},
   "outputs": [
    {
     "name": "stdout",
     "output_type": "stream",
     "text": [
      "        pearson      rmse   Ti_mean    Ti_max    Ti_min            FD\n",
      "casos                                                                \n",
      "Ti_ae  0.954001  0.701687  0.200250  0.056551  0.470789  8.560265e-02\n",
      "Ti_ca  0.957310  0.672580  0.244576  0.449624  0.010481  8.506278e-02\n",
      "Ti_bm  0.960271  0.786293  0.415252  0.171350  0.640877  5.594021e-02\n",
      "Ti_za  0.958498  0.702647  0.311714  0.270284  0.329991  5.802046e-02\n",
      "Ti2    1.000000  2.000000  2.000000  2.000000  2.000000  6.938894e-17\n",
      "        pearson      rmse   Ti_mean    Ti_max    Ti_min        FD\n",
      "casos                                                            \n",
      "Ti_ae  0.954001  0.649156  0.899875  0.971724  0.764605  0.000000\n",
      "Ti_ca  0.957310  0.663710  0.877712  0.775188  0.994760  0.006307\n",
      "Ti_bm  0.960271  0.606853  0.792374  0.914325  0.679561  0.346513\n",
      "Ti_za  0.958498  0.648676  0.844143  0.864858  0.835004  0.322212\n",
      "Ti2    1.000000  0.000000  0.000000  0.000000  0.000000  1.000000\n"
     ]
    },
    {
     "data": {
      "text/html": [
       "<div>\n",
       "<style scoped>\n",
       "    .dataframe tbody tr th:only-of-type {\n",
       "        vertical-align: middle;\n",
       "    }\n",
       "\n",
       "    .dataframe tbody tr th {\n",
       "        vertical-align: top;\n",
       "    }\n",
       "\n",
       "    .dataframe thead th {\n",
       "        text-align: right;\n",
       "    }\n",
       "</style>\n",
       "<table border=\"1\" class=\"dataframe\">\n",
       "  <thead>\n",
       "    <tr style=\"text-align: right;\">\n",
       "      <th></th>\n",
       "      <th>pearson</th>\n",
       "      <th>rmse</th>\n",
       "      <th>Ti_mean</th>\n",
       "      <th>Ti_max</th>\n",
       "      <th>Ti_min</th>\n",
       "      <th>FD</th>\n",
       "      <th>R</th>\n",
       "    </tr>\n",
       "    <tr>\n",
       "      <th>casos</th>\n",
       "      <th></th>\n",
       "      <th></th>\n",
       "      <th></th>\n",
       "      <th></th>\n",
       "      <th></th>\n",
       "      <th></th>\n",
       "      <th></th>\n",
       "    </tr>\n",
       "  </thead>\n",
       "  <tbody>\n",
       "    <tr>\n",
       "      <th>Ti_za</th>\n",
       "      <td>0.958498</td>\n",
       "      <td>0.648676</td>\n",
       "      <td>0.844143</td>\n",
       "      <td>0.864858</td>\n",
       "      <td>0.835004</td>\n",
       "      <td>0.322212</td>\n",
       "      <td>4.473391</td>\n",
       "    </tr>\n",
       "    <tr>\n",
       "      <th>Ti_bm</th>\n",
       "      <td>0.960271</td>\n",
       "      <td>0.606853</td>\n",
       "      <td>0.792374</td>\n",
       "      <td>0.914325</td>\n",
       "      <td>0.679561</td>\n",
       "      <td>0.346513</td>\n",
       "      <td>4.299898</td>\n",
       "    </tr>\n",
       "    <tr>\n",
       "      <th>Ti_ca</th>\n",
       "      <td>0.957310</td>\n",
       "      <td>0.663710</td>\n",
       "      <td>0.877712</td>\n",
       "      <td>0.775188</td>\n",
       "      <td>0.994760</td>\n",
       "      <td>0.006307</td>\n",
       "      <td>4.274987</td>\n",
       "    </tr>\n",
       "    <tr>\n",
       "      <th>Ti_ae</th>\n",
       "      <td>0.954001</td>\n",
       "      <td>0.649156</td>\n",
       "      <td>0.899875</td>\n",
       "      <td>0.971724</td>\n",
       "      <td>0.764605</td>\n",
       "      <td>0.000000</td>\n",
       "      <td>4.239362</td>\n",
       "    </tr>\n",
       "    <tr>\n",
       "      <th>Ti2</th>\n",
       "      <td>1.000000</td>\n",
       "      <td>0.000000</td>\n",
       "      <td>0.000000</td>\n",
       "      <td>0.000000</td>\n",
       "      <td>0.000000</td>\n",
       "      <td>1.000000</td>\n",
       "      <td>2.000000</td>\n",
       "    </tr>\n",
       "  </tbody>\n",
       "</table>\n",
       "</div>"
      ],
      "text/plain": [
       "        pearson      rmse   Ti_mean    Ti_max    Ti_min        FD         R\n",
       "casos                                                                      \n",
       "Ti_za  0.958498  0.648676  0.844143  0.864858  0.835004  0.322212  4.473391\n",
       "Ti_bm  0.960271  0.606853  0.792374  0.914325  0.679561  0.346513  4.299898\n",
       "Ti_ca  0.957310  0.663710  0.877712  0.775188  0.994760  0.006307  4.274987\n",
       "Ti_ae  0.954001  0.649156  0.899875  0.971724  0.764605  0.000000  4.239362\n",
       "Ti2    1.000000  0.000000  0.000000  0.000000  0.000000  1.000000  2.000000"
      ]
     },
     "execution_count": 4,
     "metadata": {},
     "output_type": "execute_result"
    }
   ],
   "source": [
    "simulados=['Ti_ae', 'Ti_ca', 'Ti_bm', 'Ti_za',\"Ti2\"]\n",
    "\n",
    "pearson = []\n",
    "rmse    = []\n",
    "Ti_mean = []\n",
    "Ti_max  = []\n",
    "Ti_min  = []\n",
    "FD      = []\n",
    "\n",
    "for simulado in simulados:\n",
    "    pearson.append(datos.Ti.corr(datos[simulado]))\n",
    "    rmse.append(((datos[simulado]-datos.Ti)**2).mean()**.5  )\n",
    "    Ti_mean.append( abs(datos[simulado].mean() - datos.Ti.mean()) ) \n",
    "    Ti_max.append(  abs((datos[simulado].resample(\"1D\").max() - datos.Ti.resample(\"1D\").max()).mean())   )\n",
    "    Ti_min.append(  abs((datos[simulado].resample(\"1D\").min() - datos.Ti.resample(\"1D\").min()).mean())   )\n",
    "    fd_s = (datos[simulado].resample(\"1D\").max() - datos[simulado].resample(\"1D\").min())/(datos.To_esolmet.resample(\"1D\").max() - datos.To_esolmet.resample(\"1D\").min())\n",
    "    fd_e = (datos.Ti.resample(\"1D\").max() - datos.Ti.resample(\"1D\").min())/(datos.To_esolmet.resample(\"1D\").max() - datos.To_esolmet.resample(\"1D\").min())\n",
    "    FD.append(  abs(fd_s - fd_e).mean() )\n",
    "df = pd.DataFrame({\"casos\":simulados,\n",
    "                   \"pearson\":pearson,\n",
    "                   \"rmse\":rmse,\n",
    "                   \"Ti_mean\":Ti_mean,\n",
    "                   \"Ti_max\":Ti_max,\n",
    "                   \"Ti_min\":Ti_min,\n",
    "                    \"FD\":FD})\n",
    "df.set_index(\"casos\",inplace=True)\n",
    "\n",
    "\n",
    "print(df)\n",
    "\n",
    "def normaliza(df,peso = 1.):\n",
    "    df = (1. - df/df.max())*peso\n",
    "    return df\n",
    "\n",
    "df.rmse    = normaliza(df.rmse,peso=1.)\n",
    "df.Ti_mean = normaliza(df.Ti_mean)\n",
    "df.Ti_max  = normaliza(df.Ti_max)\n",
    "df.Ti_min  = normaliza(df.Ti_min)\n",
    "df.FD      = normaliza(df.FD)\n",
    "\n",
    "print(df)\n",
    "df[\"R\"] = df.sum(axis=1)\n",
    "df.sort_values(by=\"R\",ascending=False)"
   ]
  },
  {
   "cell_type": "code",
   "execution_count": 5,
   "metadata": {},
   "outputs": [
    {
     "data": {
      "text/plain": [
       "[<matplotlib.lines.Line2D at 0x11b37da00>]"
      ]
     },
     "execution_count": 5,
     "metadata": {},
     "output_type": "execute_result"
    },
    {
     "data": {
      "image/png": "[encoded data removed]",
      "text/plain": [
       "<Figure size 1296x360 with 1 Axes>"
      ]
     },
     "metadata": {
      "needs_background": "light"
     },
     "output_type": "display_data"
    }
   ],
   "source": [
    "fig, ax = plt.subplots(figsize=(18,5))\n",
    "\n",
    "fecha1 = parse(\"2019-06-22\")\n",
    "fecha2 = fecha1 + pd.Timedelta(\"2D\")\n",
    "\n",
    "ax.set_xlim(fecha1,fecha2)\n",
    "\n",
    "\n",
    "ax.plot(datos.Ti_ae,'y+')\n",
    "ax.plot(datos.Ti_bm,'g+')\n",
    "ax.plot(datos.Ti_ca,'k+')\n",
    "ax.plot(datos.Ti_za,'r--')\n",
    "\n",
    "ax.plot(datos.Ti,'k-',linewidth=4)\n"
   ]
  },
  {
   "cell_type": "code",
   "execution_count": null,
   "metadata": {},
   "outputs": [],
   "source": []
  }
 ],
 "metadata": {
  "kernelspec": {
   "display_name": "Python 3",
   "language": "python",
   "name": "python3"
  },
  "language_info": {
   "codemirror_mode": {
    "name": "ipython",
    "version": 3
   },
   "file_extension": ".py",
   "mimetype": "text/x-python",
   "name": "python",
   "nbconvert_exporter": "python",
   "pygments_lexer": "ipython3",
   "version": "3.8.5"
  }
 },
 "nbformat": 4,
 "nbformat_minor": 4
}
