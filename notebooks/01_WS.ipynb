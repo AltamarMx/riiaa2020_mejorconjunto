{
 "cells": [
  {
   "cell_type": "markdown",
   "metadata": {},
   "source": [
    "ToDO\n",
    "\n",
    "1 Importar datos experimentales del cubiculo\n",
    "2 Importar datos meteorologicos\n",
    "3 Crear un DF de datos experimentales \n",
    "\n",
    "4 Importar los datos num'ericos\n",
    "\n",
    "5 Visualizar, limpiar, datos experimentales\n",
    "\n",
    "6 Analizar los datos\n",
    "\n",
    "7 Escribir una clase\n"
   ]
  },
  {
   "cell_type": "code",
   "execution_count": 1,
   "metadata": {},
   "outputs": [],
   "source": [
    "import pandas as pd\n",
    "import matplotlib.pyplot as plt\n",
    "import numpy as np\n",
    "from dateutil.parser import parse"
   ]
  },
  {
   "cell_type": "code",
   "execution_count": 2,
   "metadata": {},
   "outputs": [],
   "source": [
    "archivo = \"../data/raw/nombres_DATA.txt\"\n",
    "nombres = np.genfromtxt(archivo,dtype=\"U\",delimiter=\",\")\n",
    "nombres\n",
    "# for i in enumerate(nombres):\n",
    "#     print(i)\n",
    "nombres[7] = 'nombre_nuevos'\n",
    "# nombres\n",
    "\n",
    "archivo = '../data/raw/DATA.csv'\n",
    "data = pd.read_csv(archivo, index_col=0,parse_dates=True,names=nombres)\n",
    "# data.index\n",
    "\n"
   ]
  },
  {
   "cell_type": "code",
   "execution_count": 3,
   "metadata": {},
   "outputs": [],
   "source": [
    "archivo = \"../data/raw/RUOA.txt\"\n",
    "ruoa  = pd.read_csv(archivo,skiprows=4,delimiter=\"\\t\",index_col=0,\n",
    "                    parse_dates=True,usecols=[0,1,2,3,4,9],\n",
    "                    names=[\"tiempo\",\"To\",\"hr\",\"ws\",\"wd\",\"Ig\"])\n",
    "# ruoa"
   ]
  },
  {
   "cell_type": "code",
   "execution_count": 4,
   "metadata": {},
   "outputs": [
    {
     "data": {
      "text/plain": [
       "DatetimeIndex(['2019-01-01 00:00:00', '2019-01-01 00:10:00',\n",
       "               '2019-01-01 00:20:00', '2019-01-01 00:30:00',\n",
       "               '2019-01-01 00:40:00', '2019-01-01 00:50:00',\n",
       "               '2019-01-01 01:00:00', '2019-01-01 01:10:00',\n",
       "               '2019-01-01 01:20:00', '2019-01-01 01:30:00',\n",
       "               ...\n",
       "               '2019-12-06 22:20:00', '2019-12-06 22:30:00',\n",
       "               '2019-12-06 22:40:00', '2019-12-06 22:50:00',\n",
       "               '2019-12-06 23:00:00', '2019-12-06 23:10:00',\n",
       "               '2019-12-06 23:20:00', '2019-12-06 23:30:00',\n",
       "               '2019-12-06 23:40:00', '2019-12-06 23:50:00'],\n",
       "              dtype='datetime64[ns]', name='tiempo', length=48960, freq='600S')"
      ]
     },
     "execution_count": 4,
     "metadata": {},
     "output_type": "execute_result"
    }
   ],
   "source": [
    "ruoa.sort_index(inplace=True)\n",
    "ruoa.columns\n",
    "ruoa = ruoa.add_suffix(\"_ruoa\")\n",
    "ruoa.columns\n",
    "ruoa = ruoa.resample(\"600S\").interpolate(method=\"time\")\n",
    "ruoa.index"
   ]
  },
  {
   "cell_type": "code",
   "execution_count": 5,
   "metadata": {},
   "outputs": [
    {
     "data": {
      "text/plain": [
       "Index(['Ib_esolmet', 'Ig_esolmet', 'Id_esolmet', 'To_esolmet'], dtype='object')"
      ]
     },
     "execution_count": 5,
     "metadata": {},
     "output_type": "execute_result"
    }
   ],
   "source": [
    "archivo = \"../data/raw/ESOLMET_2019.xlsx\"\n",
    "esolmet = pd.read_excel(archivo,skiprows=5,\n",
    "                        names=[\"tiempo\",\"Ib\",\"Ig\",\"Id\",\"To\"],\n",
    "                        usecols=[0,1,2,3,5],\n",
    "                        index_col=0,parse_dates=True)\n",
    "esolmet.index\n",
    "esolmet.sort_index(inplace=True)\n",
    "esolmet = esolmet.add_suffix(\"_esolmet\")\n",
    "esolmet.columns"
   ]
  },
  {
   "cell_type": "code",
   "execution_count": 6,
   "metadata": {},
   "outputs": [],
   "source": [
    "datos = pd.concat([ruoa,esolmet,data],axis=1)"
   ]
  },
  {
   "cell_type": "code",
   "execution_count": 7,
   "metadata": {},
   "outputs": [
    {
     "data": {
      "text/plain": [
       "Index(['To_ruoa', 'hr_ruoa', 'ws_ruoa', 'wd_ruoa', 'Ig_ruoa', 'Ib_esolmet',\n",
       "       'Ig_esolmet', 'Id_esolmet', 'To_esolmet', 'SFlujo', 'TemPrtdIn',\n",
       "       'TemPrtdOut', 'TCPan1', 'TCPan2', 'TCPan3', 'nombre_nuev', 'TCPan5',\n",
       "       'TCCubo01', 'TCCubo02', 'TCCubo03', 'TCCubo04', 'TCCubo05', 'TCCubo06',\n",
       "       'TCCubo07', 'TCCubo08', 'TCCubo09', 'TCCubo010', 'TCPiso', 'Ti', 'A1',\n",
       "       'A2', 'A3', 'A4', 'Flujo2', 'TemPrtdIn2', 'TemPrtdOut2', 'InterIn',\n",
       "       'InterOut'],\n",
       "      dtype='object')"
      ]
     },
     "execution_count": 7,
     "metadata": {},
     "output_type": "execute_result"
    }
   ],
   "source": [
    "datos.columns"
   ]
  },
  {
   "cell_type": "code",
   "execution_count": 8,
   "metadata": {},
   "outputs": [
    {
     "ename": "AttributeError",
     "evalue": "'DataFrame' object has no attribute 'To_ruoa_ruoa'",
     "output_type": "error",
     "traceback": [
      "\u001b[0;31m---------------------------------------------------------------------------\u001b[0m",
      "\u001b[0;31mAttributeError\u001b[0m                            Traceback (most recent call last)",
      "\u001b[0;32m<ipython-input-8-2c8a463b185e>\u001b[0m in \u001b[0;36m<module>\u001b[0;34m\u001b[0m\n\u001b[1;32m      1\u001b[0m \u001b[0mdatos\u001b[0m\u001b[0;34m.\u001b[0m\u001b[0mTo_esolmet\u001b[0m\u001b[0;34m.\u001b[0m\u001b[0mplot\u001b[0m\u001b[0;34m(\u001b[0m\u001b[0;34m)\u001b[0m\u001b[0;34m\u001b[0m\u001b[0;34m\u001b[0m\u001b[0m\n\u001b[0;32m----> 2\u001b[0;31m \u001b[0mdatos\u001b[0m\u001b[0;34m.\u001b[0m\u001b[0mTo_ruoa_ruoa\u001b[0m\u001b[0;34m.\u001b[0m\u001b[0mplot\u001b[0m\u001b[0;34m(\u001b[0m\u001b[0;34m)\u001b[0m\u001b[0;34m\u001b[0m\u001b[0;34m\u001b[0m\u001b[0m\n\u001b[0m",
      "\u001b[0;32m/usr/local/lib/python3.8/site-packages/pandas/core/generic.py\u001b[0m in \u001b[0;36m__getattr__\u001b[0;34m(self, name)\u001b[0m\n\u001b[1;32m   5128\u001b[0m             \u001b[0;32mif\u001b[0m \u001b[0mself\u001b[0m\u001b[0;34m.\u001b[0m\u001b[0m_info_axis\u001b[0m\u001b[0;34m.\u001b[0m\u001b[0m_can_hold_identifiers_and_holds_name\u001b[0m\u001b[0;34m(\u001b[0m\u001b[0mname\u001b[0m\u001b[0;34m)\u001b[0m\u001b[0;34m:\u001b[0m\u001b[0;34m\u001b[0m\u001b[0;34m\u001b[0m\u001b[0m\n\u001b[1;32m   5129\u001b[0m                 \u001b[0;32mreturn\u001b[0m \u001b[0mself\u001b[0m\u001b[0;34m[\u001b[0m\u001b[0mname\u001b[0m\u001b[0;34m]\u001b[0m\u001b[0;34m\u001b[0m\u001b[0;34m\u001b[0m\u001b[0m\n\u001b[0;32m-> 5130\u001b[0;31m             \u001b[0;32mreturn\u001b[0m \u001b[0mobject\u001b[0m\u001b[0;34m.\u001b[0m\u001b[0m__getattribute__\u001b[0m\u001b[0;34m(\u001b[0m\u001b[0mself\u001b[0m\u001b[0;34m,\u001b[0m \u001b[0mname\u001b[0m\u001b[0;34m)\u001b[0m\u001b[0;34m\u001b[0m\u001b[0;34m\u001b[0m\u001b[0m\n\u001b[0m\u001b[1;32m   5131\u001b[0m \u001b[0;34m\u001b[0m\u001b[0m\n\u001b[1;32m   5132\u001b[0m     \u001b[0;32mdef\u001b[0m \u001b[0m__setattr__\u001b[0m\u001b[0;34m(\u001b[0m\u001b[0mself\u001b[0m\u001b[0;34m,\u001b[0m \u001b[0mname\u001b[0m\u001b[0;34m:\u001b[0m \u001b[0mstr\u001b[0m\u001b[0;34m,\u001b[0m \u001b[0mvalue\u001b[0m\u001b[0;34m)\u001b[0m \u001b[0;34m->\u001b[0m \u001b[0;32mNone\u001b[0m\u001b[0;34m:\u001b[0m\u001b[0;34m\u001b[0m\u001b[0;34m\u001b[0m\u001b[0m\n",
      "\u001b[0;31mAttributeError\u001b[0m: 'DataFrame' object has no attribute 'To_ruoa_ruoa'"
     ]
    },
    {
     "data": {
      "image/png": "[encoded data removed]",
      "text/plain": [
       "<Figure size 432x288 with 1 Axes>"
      ]
     },
     "metadata": {
      "needs_background": "light"
     },
     "output_type": "display_data"
    }
   ],
   "source": [
    "# datos.To_esolmet.plot()\n",
    "# datos.To_ruoa_ruoa.plot()"
   ]
  },
  {
   "cell_type": "code",
   "execution_count": 9,
   "metadata": {},
   "outputs": [],
   "source": [
    "datos.to_csv(\"../data/processed/mediciones_WS.csv\")"
   ]
  },
  {
   "cell_type": "code",
   "execution_count": 10,
   "metadata": {},
   "outputs": [],
   "source": [
    "archivo = \"../data/raw/ae.csv\"\n",
    "nombres = np.genfromtxt(\"../data/raw/ae.csv\",dtype=\"U\",max_rows=1,\n",
    "                        delimiter=\",\")\n",
    "# for i in enumerate(nombres):\n",
    "#     print(i)\n",
    "nombres[0] = 'tiempo'\n",
    "nombres[13]= \"Ti\"\n",
    "    \n",
    "def importa(archivo,nombres): \n",
    "    tmp = pd.read_csv(archivo,names=nombres,skiprows=1)\n",
    "    tmp.tiempo = tmp.tiempo.str.replace(\"24:00:00\",\"23:59:59\")\n",
    "    tmp.tiempo = \"2019-\" + tmp.tiempo\n",
    "    tmp.tiempo = pd.to_datetime(tmp.tiempo,format=\"%Y- %m/%d %H:%M:%S\")\n",
    "    tmp.set_index('tiempo',inplace=True)\n",
    "    return tmp\n"
   ]
  },
  {
   "cell_type": "markdown",
   "metadata": {},
   "source": [
    "Zyanya y Alejando"
   ]
  },
  {
   "cell_type": "code",
   "execution_count": 11,
   "metadata": {},
   "outputs": [
    {
     "data": {
      "text/plain": [
       "DatetimeIndex(['2019-05-03 00:10:00', '2019-05-03 00:20:00',\n",
       "               '2019-05-03 00:30:00', '2019-05-03 00:40:00',\n",
       "               '2019-05-03 00:50:00', '2019-05-03 01:00:00',\n",
       "               '2019-05-03 01:10:00', '2019-05-03 01:20:00',\n",
       "               '2019-05-03 01:30:00', '2019-05-03 01:40:00',\n",
       "               ...\n",
       "               '2019-06-24 22:30:00', '2019-06-24 22:40:00',\n",
       "               '2019-06-24 22:50:00', '2019-06-24 23:00:00',\n",
       "               '2019-06-24 23:10:00', '2019-06-24 23:20:00',\n",
       "               '2019-06-24 23:30:00', '2019-06-24 23:40:00',\n",
       "               '2019-06-24 23:50:00', '2019-06-24 23:59:59'],\n",
       "              dtype='datetime64[ns]', name='tiempo', length=7632, freq=None)"
      ]
     },
     "execution_count": 11,
     "metadata": {},
     "output_type": "execute_result"
    }
   ],
   "source": [
    "archivo = \"../data/raw/za.csv\"\n",
    "nombres = np.genfromtxt(archivo,delimiter=\",\",max_rows=1,dtype=\"U\")\n",
    "\n",
    "nombres[0] = 'tiempo'\n",
    "nombres[1] = 'To'\n",
    "nombres[2] = 'hr'\n",
    "nombres[3] = 'ws'\n",
    "nombres[4] = 'wd'\n",
    "nombres[5] = 'Id'\n",
    "nombres[6] = 'Ib'\n",
    "nombres[7] = 'alpha'\n",
    "nombres[8] = 'Ti'\n",
    "za =  importa(archivo,nombres)\n",
    "za.index\n",
    "# za.to_csv(\"../data/processed/C_za.csv\")"
   ]
  },
  {
   "cell_type": "markdown",
   "metadata": {},
   "source": [
    "Astrid y E Spezzi"
   ]
  },
  {
   "cell_type": "code",
   "execution_count": 12,
   "metadata": {},
   "outputs": [
    {
     "data": {
      "text/plain": [
       "DatetimeIndex(['2019-06-08 00:00:00', '2019-06-08 00:10:00',\n",
       "               '2019-06-08 00:20:00', '2019-06-08 00:30:00',\n",
       "               '2019-06-08 00:40:00', '2019-06-08 00:50:00',\n",
       "               '2019-06-08 01:00:00', '2019-06-08 01:10:00',\n",
       "               '2019-06-08 01:20:00', '2019-06-08 01:30:00',\n",
       "               ...\n",
       "               '2019-06-24 22:20:00', '2019-06-24 22:30:00',\n",
       "               '2019-06-24 22:40:00', '2019-06-24 22:50:00',\n",
       "               '2019-06-24 23:00:00', '2019-06-24 23:10:00',\n",
       "               '2019-06-24 23:20:00', '2019-06-24 23:30:00',\n",
       "               '2019-06-24 23:40:00', '2019-06-24 23:50:00'],\n",
       "              dtype='datetime64[ns]', name='tiempo', length=2448, freq='600S')"
      ]
     },
     "execution_count": 12,
     "metadata": {},
     "output_type": "execute_result"
    }
   ],
   "source": [
    "archivo = \"../data/raw/ae.csv\"\n",
    "nombres = np.genfromtxt(archivo,delimiter=\",\",max_rows=1,dtype=\"U\")\n",
    "\n",
    "nombres[0] = 'tiempo'\n",
    "nombres[1] = 'To'\n",
    "nombres[2] = 'hr'\n",
    "nombres[4] = 'ws'\n",
    "nombres[5] = 'wd'\n",
    "nombres[6] = 'Id'\n",
    "nombres[7] = 'Ib'\n",
    "nombres[8] = 'alpha'\n",
    "nombres[13] = 'Ti'\n",
    "\n",
    "ae = importa(archivo,nombres)\n",
    "ae = ae.resample(\"600S\").interpolate(method=\"time\")\n",
    "ae.index"
   ]
  },
  {
   "cell_type": "code",
   "execution_count": 13,
   "metadata": {},
   "outputs": [],
   "source": [
    "ae.to_csv(\"../data/processed/C_ae.csv\")"
   ]
  },
  {
   "cell_type": "code",
   "execution_count": 14,
   "metadata": {},
   "outputs": [
    {
     "name": "stdout",
     "output_type": "stream",
     "text": [
      "0 Date/Time\n",
      "1 Environment:Site Outdoor Air Drybulb Temperature [C](TimeStep)\n",
      "2 Environment:Site Outdoor Air Relative Humidity [%](TimeStep)\n",
      "3 Environment:Site Outdoor Air Barometric Pressure [Pa](TimeStep)\n",
      "4 Environment:Site Wind Speed [m/s](TimeStep)\n",
      "5 Environment:Site Wind Direction [deg](TimeStep)\n",
      "6 Environment:Site Diffuse Solar Radiation Rate per Area [W/m2](TimeStep)\n",
      "7 Environment:Site Direct Solar Radiation Rate per Area [W/m2](TimeStep)\n",
      "8 Environment:Site Solar Altitude Angle [deg](TimeStep)\n",
      "9 ZT3:Zone Mean Air Temperature [C](TimeStep)\n"
     ]
    },
    {
     "data": {
      "text/plain": [
       "DatetimeIndex(['2019-05-21 00:00:00', '2019-05-21 00:10:00',\n",
       "               '2019-05-21 00:20:00', '2019-05-21 00:30:00',\n",
       "               '2019-05-21 00:40:00', '2019-05-21 00:50:00',\n",
       "               '2019-05-21 01:00:00', '2019-05-21 01:10:00',\n",
       "               '2019-05-21 01:20:00', '2019-05-21 01:30:00',\n",
       "               ...\n",
       "               '2019-06-24 22:20:00', '2019-06-24 22:30:00',\n",
       "               '2019-06-24 22:40:00', '2019-06-24 22:50:00',\n",
       "               '2019-06-24 23:00:00', '2019-06-24 23:10:00',\n",
       "               '2019-06-24 23:20:00', '2019-06-24 23:30:00',\n",
       "               '2019-06-24 23:40:00', '2019-06-24 23:50:00'],\n",
       "              dtype='datetime64[ns]', name='tiempo', length=5040, freq='600S')"
      ]
     },
     "execution_count": 14,
     "metadata": {},
     "output_type": "execute_result"
    }
   ],
   "source": [
    "archivo = \"../data/raw/bm.csv\"\n",
    "nombres = np.genfromtxt(archivo,delimiter=\",\",max_rows=1,dtype='U')\n",
    "for i,nombre in enumerate(nombres):\n",
    "    print(i,nombre)\n",
    "\n",
    "nombres[0] = 'tiempo'\n",
    "nombres[1] = 'To'\n",
    "nombres[2] = 'hr'\n",
    "nombres[4] = 'ws'\n",
    "nombres[5] = 'wd'\n",
    "nombres[6] = 'Id'\n",
    "nombres[7] = 'Ib'\n",
    "nombres[8] = 'alpha'\n",
    "nombres[9] = 'Ti'\n",
    "\n",
    "bm = importa(archivo,nombres)\n",
    "bm = bm.resample(\"600S\").interpolate(method='time')\n",
    "\n",
    "bm.index"
   ]
  },
  {
   "cell_type": "code",
   "execution_count": 15,
   "metadata": {},
   "outputs": [],
   "source": [
    "bm.to_csv(\"../data/processed/C_bm.csv\")"
   ]
  },
  {
   "cell_type": "markdown",
   "metadata": {},
   "source": [
    "# Carmona y Augusto"
   ]
  },
  {
   "cell_type": "code",
   "execution_count": 16,
   "metadata": {},
   "outputs": [
    {
     "data": {
      "text/plain": [
       "DatetimeIndex(['2019-05-25 00:00:00', '2019-05-25 00:10:00',\n",
       "               '2019-05-25 00:20:00', '2019-05-25 00:30:00',\n",
       "               '2019-05-25 00:40:00', '2019-05-25 00:50:00',\n",
       "               '2019-05-25 01:00:00', '2019-05-25 01:10:00',\n",
       "               '2019-05-25 01:20:00', '2019-05-25 01:30:00',\n",
       "               ...\n",
       "               '2019-06-23 22:20:00', '2019-06-23 22:30:00',\n",
       "               '2019-06-23 22:40:00', '2019-06-23 22:50:00',\n",
       "               '2019-06-23 23:00:00', '2019-06-23 23:10:00',\n",
       "               '2019-06-23 23:20:00', '2019-06-23 23:30:00',\n",
       "               '2019-06-23 23:40:00', '2019-06-23 23:50:00'],\n",
       "              dtype='datetime64[ns]', name='tiempo', length=4320, freq='600S')"
      ]
     },
     "execution_count": 16,
     "metadata": {},
     "output_type": "execute_result"
    }
   ],
   "source": [
    "archivo  = \"../data/raw/ca.csv\"\n",
    "nombres = np.genfromtxt(archivo,delimiter=\",\",max_rows=1,dtype='U')\n",
    "# for i,nombre in enumerate(nombres):\n",
    "#     print(i,nombre)\n",
    "\n",
    "nombres[0] = 'tiempo'\n",
    "nombres[1] = 'To'\n",
    "nombres[2] = 'hr'\n",
    "nombres[3] = 'ws'\n",
    "nombres[4] = 'wd'\n",
    "nombres[5] = 'Id'\n",
    "nombres[6] = 'Ib'\n",
    "nombres[7] = 'alpha'\n",
    "nombres[8] = 'Ti'\n",
    "\n",
    "ca = importa(archivo,nombres)\n",
    "ca = ca.resample(\"600S\").interpolate(method='time')\n",
    "\n",
    "ca.index"
   ]
  },
  {
   "cell_type": "code",
   "execution_count": 17,
   "metadata": {},
   "outputs": [],
   "source": [
    "ca.to_csv(\"../data/processed/C_ca.csv\")"
   ]
  },
  {
   "cell_type": "code",
   "execution_count": 18,
   "metadata": {},
   "outputs": [],
   "source": [
    "# datos"
   ]
  },
  {
   "cell_type": "code",
   "execution_count": 29,
   "metadata": {},
   "outputs": [
    {
     "data": {
      "text/plain": [
       "[<matplotlib.lines.Line2D at 0x123db0e80>]"
      ]
     },
     "execution_count": 29,
     "metadata": {},
     "output_type": "execute_result"
    },
    {
     "data": {
      "image/png": "[encoded data removed]",
      "text/plain": [
       "<Figure size 720x216 with 1 Axes>"
      ]
     },
     "metadata": {
      "needs_background": "light"
     },
     "output_type": "display_data"
    }
   ],
   "source": [
    "fig, ax = plt.subplots(figsize=(10,3))\n",
    "\n",
    "fecha1 = parse(\"2019-06-08\")\n",
    "fecha2 = fecha1 + pd.Timedelta(\"1D\")\n",
    "\n",
    "ax.set_xlim(fecha1,fecha2)\n",
    "ax.set_ylim(20,32)\n",
    "\n",
    "# ax.plot(datos.To_esolmet,'r-',label=\"To\")\n",
    "ax.plot(datos.Ti,        'k-',label=\"Ti\")\n",
    "\n",
    "ax.plot(ae.Ti,\"g+\",label=\"ae\")\n",
    "ax.plot(ca.Ti,\"r+\",label=\"ca\")\n",
    "ax.plot(bm.Ti,\"b+\",label=\"bm\")\n",
    "ax.plot(za.Ti,\"y+\",label=\"za\")\n",
    "# ax.plot(.Ti,\"g+\",label=\"ae\")"
   ]
  },
  {
   "cell_type": "code",
   "execution_count": null,
   "metadata": {},
   "outputs": [],
   "source": []
  },
  {
   "cell_type": "code",
   "execution_count": null,
   "metadata": {},
   "outputs": [],
   "source": []
  },
  {
   "cell_type": "code",
   "execution_count": 20,
   "metadata": {},
   "outputs": [
    {
     "data": {
      "text/plain": [
       "datetime.datetime(2019, 6, 10, 0, 0)"
      ]
     },
     "execution_count": 20,
     "metadata": {},
     "output_type": "execute_result"
    }
   ],
   "source": [
    "fecha2"
   ]
  },
  {
   "cell_type": "code",
   "execution_count": null,
   "metadata": {},
   "outputs": [],
   "source": []
  },
  {
   "cell_type": "code",
   "execution_count": null,
   "metadata": {},
   "outputs": [],
   "source": []
  },
  {
   "cell_type": "code",
   "execution_count": null,
   "metadata": {},
   "outputs": [],
   "source": []
  }
 ],
 "metadata": {
  "kernelspec": {
   "display_name": "Python 3",
   "language": "python",
   "name": "python3"
  },
  "language_info": {
   "codemirror_mode": {
    "name": "ipython",
    "version": 3
   },
   "file_extension": ".py",
   "mimetype": "text/x-python",
   "name": "python",
   "nbconvert_exporter": "python",
   "pygments_lexer": "ipython3",
   "version": "3.8.5"
  }
 },
 "nbformat": 4,
 "nbformat_minor": 4
}
