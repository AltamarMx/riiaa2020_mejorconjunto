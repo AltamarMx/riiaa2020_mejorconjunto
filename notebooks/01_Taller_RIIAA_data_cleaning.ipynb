{
 "cells": [
  {
   "cell_type": "code",
   "execution_count": 1,
   "metadata": {},
   "outputs": [],
   "source": [
    "import pandas as pd\n",
    "import matplotlib.pyplot as plt\n",
    "from dateutil.parser import parse\n",
    "import numpy as np"
   ]
  },
  {
   "cell_type": "code",
   "execution_count": 3,
   "metadata": {},
   "outputs": [],
   "source": [
    "# 1 Obtiene lista de nombres del archivo\n",
    "nombres = np.genfromtxt(\"../data/raw/nombres_DATA.txt\",dtype='U',delimiter=',')\n",
    "nombres\n",
    "\n",
    "# 2 lee archivo DATA que contiene datos experimentales\n",
    "data = pd.read_csv('../data/raw/DATA.csv',names=nombres,index_col=0,parse_dates=True)\n",
    "data = data.resample(\"600S\").interpolate(method='time')\n",
    "data.sort_index(inplace=True)\n",
    "\n",
    "ruoa = pd.read_csv('../data/raw/RUOA.txt',skiprows=4,delimiter=\"\\t\",usecols=[0,1,2,3,4,9],\n",
    "                   names=['tiempo','To','hr','ws','wd','Ig'],index_col=0,parse_dates=True)\n",
    "\n",
    "ruoa.sort_index(inplace=True)\n",
    "ruoa = ruoa.add_suffix(\"_ruoa\")\n",
    "ruoa = ruoa.resample(\"600S\").interpolate(method='time')\n",
    "\n",
    "esolmet = pd.read_excel('../data/raw/ESOLMET_2019.xlsx',skiprows=5,usecols=[0,1,2,3,5],\n",
    "                       names=['tiempo','Ib','Ig','Id','To'],index_col=0,parse_dates=True)\n",
    "esolmet.sort_index(inplace=True)\n",
    "esolmet = esolmet.add_suffix(\"_esolmet\")\n",
    "\n",
    "\n",
    "datos = pd.concat([ruoa,esolmet,data],axis=1)"
   ]
  },
  {
   "cell_type": "code",
   "execution_count": 4,
   "metadata": {},
   "outputs": [],
   "source": [
    "datos.to_csv(\"../data/processed/mediciones.csv\")"
   ]
  },
  {
   "cell_type": "code",
   "execution_count": 5,
   "metadata": {},
   "outputs": [],
   "source": [
    "def importa(archivo,nombres):\n",
    "    tmp = pd.read_csv(archivo,skiprows=1,names=nombres)\n",
    "    tmp.tiempo = tmp.tiempo.str.replace(\"24:00:00\",\"23:59:59\")\n",
    "    tmp.tiempo = \"2019-\" + tmp.tiempo\n",
    "    tmp.tiempo = pd.to_datetime(tmp.tiempo,format=\"%Y- %m/%d %H:%M:%S\")\n",
    "    tmp.set_index('tiempo',inplace=True)\n",
    "    return tmp\n"
   ]
  },
  {
   "cell_type": "markdown",
   "metadata": {},
   "source": [
    "# Zyanya y Alejandro"
   ]
  },
  {
   "cell_type": "code",
   "execution_count": 6,
   "metadata": {},
   "outputs": [
    {
     "name": "stdout",
     "output_type": "stream",
     "text": [
      "0 Date/Time\n",
      "1 Environment:Site Outdoor Air Drybulb Temperature [C](TimeStep)\n",
      "2 Environment:Site Outdoor Air Relative Humidity [%](TimeStep)\n",
      "3 Environment:Site Wind Speed [m/s](TimeStep)\n",
      "4 Environment:Site Wind Direction [deg](TimeStep)\n",
      "5 Environment:Site Diffuse Solar Radiation Rate per Area [W/m2](TimeStep)\n",
      "6 Environment:Site Direct Solar Radiation Rate per Area [W/m2](TimeStep)\n",
      "7 Environment:Site Solar Altitude Angle [deg](TimeStep)\n",
      "8 CR:Zone Mean Air Temperature [C](TimeStep)\n",
      "9 CR:AFN Zone Infiltration Air Change Rate [ach](Hourly)\n"
     ]
    }
   ],
   "source": [
    "archivo  = \"../data/raw/za.csv\"\n",
    "nombres = np.genfromtxt(archivo,delimiter=\",\",max_rows=1,dtype='U')\n",
    "for i,nombre in enumerate(nombres):\n",
    "    print(i,nombre)\n",
    "\n",
    "nombres[0] = 'tiempo'\n",
    "nombres[1] = 'To'\n",
    "nombres[2] = 'hr'\n",
    "nombres[3] = 'ws'\n",
    "nombres[4] = 'wd'\n",
    "nombres[5] = 'Id'\n",
    "nombres[6] = 'Ib'\n",
    "nombres[7] = 'alpha'\n",
    "nombres[8] = 'Ti'\n",
    "za = importa(archivo,nombres)"
   ]
  },
  {
   "cell_type": "code",
   "execution_count": 7,
   "metadata": {},
   "outputs": [
    {
     "data": {
      "text/plain": [
       "DatetimeIndex(['2019-05-03 00:10:00', '2019-05-03 00:20:00',\n",
       "               '2019-05-03 00:30:00', '2019-05-03 00:40:00',\n",
       "               '2019-05-03 00:50:00', '2019-05-03 01:00:00',\n",
       "               '2019-05-03 01:10:00', '2019-05-03 01:20:00',\n",
       "               '2019-05-03 01:30:00', '2019-05-03 01:40:00',\n",
       "               ...\n",
       "               '2019-06-24 22:30:00', '2019-06-24 22:40:00',\n",
       "               '2019-06-24 22:50:00', '2019-06-24 23:00:00',\n",
       "               '2019-06-24 23:10:00', '2019-06-24 23:20:00',\n",
       "               '2019-06-24 23:30:00', '2019-06-24 23:40:00',\n",
       "               '2019-06-24 23:50:00', '2019-06-24 23:59:59'],\n",
       "              dtype='datetime64[ns]', name='tiempo', length=7632, freq=None)"
      ]
     },
     "execution_count": 7,
     "metadata": {},
     "output_type": "execute_result"
    }
   ],
   "source": [
    "za.index"
   ]
  },
  {
   "cell_type": "code",
   "execution_count": 8,
   "metadata": {},
   "outputs": [],
   "source": [
    "za.to_csv(\"../data/processed/C_za.csv\")"
   ]
  },
  {
   "cell_type": "markdown",
   "metadata": {},
   "source": [
    "# Astrid y E Spezzia"
   ]
  },
  {
   "cell_type": "code",
   "execution_count": 9,
   "metadata": {},
   "outputs": [
    {
     "name": "stdout",
     "output_type": "stream",
     "text": [
      "0 Date/Time\n",
      "1 Environment:Site Outdoor Air Drybulb Temperature [C](TimeStep)\n",
      "2 Environment:Site Outdoor Air Relative Humidity [%](TimeStep)\n",
      "3 Environment:Site Outdoor Air Barometric Pressure [Pa](TimeStep)\n",
      "4 Environment:Site Wind Speed [m/s](TimeStep)\n",
      "5 Environment:Site Wind Direction [deg](TimeStep)\n",
      "6 Environment:Site Diffuse Solar Radiation Rate per Area [W/m2](TimeStep)\n",
      "7 Environment:Site Direct Solar Radiation Rate per Area [W/m2](TimeStep)\n",
      "8 Environment:Site Solar Altitude Angle [deg](TimeStep)\n",
      "9 C_ROJAS:Zone Electric Equipment Electric Power [W](TimeStep)\n",
      "10 C_ROJAS:Zone Electric Equipment Total Heating Rate [W](TimeStep)\n",
      "11 C_1:Zone Mean Air Temperature [C](TimeStep)\n",
      "12 C_2:Zone Mean Air Temperature [C](TimeStep)\n",
      "13 C_ROJAS:Zone Mean Air Temperature [C](TimeStep)\n",
      "14 T_1:Zone Mean Air Temperature [C](TimeStep)\n",
      "15 T_2:Zone Mean Air Temperature [C](TimeStep)\n",
      "16 T_ROJAS:Zone Mean Air Temperature [C](TimeStep)\n"
     ]
    }
   ],
   "source": [
    "archivo = \"../data/raw/ae.csv\"\n",
    "nombres = np.genfromtxt(archivo,delimiter=\",\",max_rows=1,dtype='U')\n",
    "for i,nombre in enumerate(nombres):\n",
    "    print(i,nombre)\n",
    "\n",
    "nombres[0] = 'tiempo'\n",
    "nombres[1] = 'To'\n",
    "nombres[2] = 'hr'\n",
    "nombres[4] = 'ws'\n",
    "nombres[5] = 'wd'\n",
    "nombres[6] = 'Id'\n",
    "nombres[7] = 'Ib'\n",
    "nombres[8] = 'alpha'\n",
    "nombres[13] = 'Ti'\n",
    "\n",
    "ae = importa(archivo,nombres)\n",
    "# ae.columns"
   ]
  },
  {
   "cell_type": "code",
   "execution_count": 10,
   "metadata": {},
   "outputs": [
    {
     "data": {
      "text/plain": [
       "DatetimeIndex(['2019-06-08 00:00:00', '2019-06-08 00:10:00',\n",
       "               '2019-06-08 00:20:00', '2019-06-08 00:30:00',\n",
       "               '2019-06-08 00:40:00', '2019-06-08 00:50:00',\n",
       "               '2019-06-08 01:00:00', '2019-06-08 01:10:00',\n",
       "               '2019-06-08 01:20:00', '2019-06-08 01:30:00',\n",
       "               ...\n",
       "               '2019-06-24 22:20:00', '2019-06-24 22:30:00',\n",
       "               '2019-06-24 22:40:00', '2019-06-24 22:50:00',\n",
       "               '2019-06-24 23:00:00', '2019-06-24 23:10:00',\n",
       "               '2019-06-24 23:20:00', '2019-06-24 23:30:00',\n",
       "               '2019-06-24 23:40:00', '2019-06-24 23:50:00'],\n",
       "              dtype='datetime64[ns]', name='tiempo', length=2448, freq='600S')"
      ]
     },
     "execution_count": 10,
     "metadata": {},
     "output_type": "execute_result"
    }
   ],
   "source": [
    "ae = ae.resample(\"600S\").interpolate(method=\"time\")\n",
    "ae.index"
   ]
  },
  {
   "cell_type": "code",
   "execution_count": 11,
   "metadata": {},
   "outputs": [],
   "source": [
    "ae.to_csv(\"../data/processed/C_ae.csv\")"
   ]
  },
  {
   "cell_type": "markdown",
   "metadata": {},
   "source": [
    "# Benita y Medel"
   ]
  },
  {
   "cell_type": "code",
   "execution_count": 12,
   "metadata": {},
   "outputs": [
    {
     "name": "stdout",
     "output_type": "stream",
     "text": [
      "0 Date/Time\n",
      "1 Environment:Site Outdoor Air Drybulb Temperature [C](TimeStep)\n",
      "2 Environment:Site Outdoor Air Relative Humidity [%](TimeStep)\n",
      "3 Environment:Site Outdoor Air Barometric Pressure [Pa](TimeStep)\n",
      "4 Environment:Site Wind Speed [m/s](TimeStep)\n",
      "5 Environment:Site Wind Direction [deg](TimeStep)\n",
      "6 Environment:Site Diffuse Solar Radiation Rate per Area [W/m2](TimeStep)\n",
      "7 Environment:Site Direct Solar Radiation Rate per Area [W/m2](TimeStep)\n",
      "8 Environment:Site Solar Altitude Angle [deg](TimeStep)\n",
      "9 ZT3:Zone Mean Air Temperature [C](TimeStep)\n"
     ]
    }
   ],
   "source": [
    "archivo = \"../data/raw/bm.csv\"\n",
    "nombres = np.genfromtxt(archivo,delimiter=\",\",max_rows=1,dtype='U')\n",
    "for i,nombre in enumerate(nombres):\n",
    "    print(i,nombre)\n",
    "\n",
    "nombres[0] = 'tiempo'\n",
    "nombres[1] = 'To'\n",
    "nombres[2] = 'hr'\n",
    "nombres[4] = 'ws'\n",
    "nombres[5] = 'wd'\n",
    "nombres[6] = 'Id'\n",
    "nombres[7] = 'Ib'\n",
    "nombres[8] = 'alpha'\n",
    "nombres[9] = 'Ti'\n",
    "\n",
    "bm = importa(archivo,nombres)\n",
    "# bm.columns"
   ]
  },
  {
   "cell_type": "code",
   "execution_count": 13,
   "metadata": {},
   "outputs": [
    {
     "data": {
      "text/plain": [
       "DatetimeIndex(['2019-05-21 00:00:00', '2019-05-21 00:10:00',\n",
       "               '2019-05-21 00:20:00', '2019-05-21 00:30:00',\n",
       "               '2019-05-21 00:40:00', '2019-05-21 00:50:00',\n",
       "               '2019-05-21 01:00:00', '2019-05-21 01:10:00',\n",
       "               '2019-05-21 01:20:00', '2019-05-21 01:30:00',\n",
       "               ...\n",
       "               '2019-06-24 22:20:00', '2019-06-24 22:30:00',\n",
       "               '2019-06-24 22:40:00', '2019-06-24 22:50:00',\n",
       "               '2019-06-24 23:00:00', '2019-06-24 23:10:00',\n",
       "               '2019-06-24 23:20:00', '2019-06-24 23:30:00',\n",
       "               '2019-06-24 23:40:00', '2019-06-24 23:50:00'],\n",
       "              dtype='datetime64[ns]', name='tiempo', length=5040, freq='600S')"
      ]
     },
     "execution_count": 13,
     "metadata": {},
     "output_type": "execute_result"
    }
   ],
   "source": [
    "bm = bm.resample(\"600S\").interpolate(method='time')\n",
    "bm.index"
   ]
  },
  {
   "cell_type": "code",
   "execution_count": 14,
   "metadata": {},
   "outputs": [],
   "source": [
    "bm.to_csv(\"../data/processed/C_bm.csv\")"
   ]
  },
  {
   "cell_type": "markdown",
   "metadata": {},
   "source": [
    "# Carmona y Augusto"
   ]
  },
  {
   "cell_type": "code",
   "execution_count": 15,
   "metadata": {},
   "outputs": [],
   "source": [
    "archivo  = \"../data/raw/ca.csv\"\n",
    "nombres = np.genfromtxt(archivo,delimiter=\",\",max_rows=1,dtype='U')\n",
    "# for i,nombre in enumerate(nombres):\n",
    "#     print(i,nombre)\n",
    "\n",
    "nombres[0] = 'tiempo'\n",
    "nombres[1] = 'To'\n",
    "nombres[2] = 'hr'\n",
    "nombres[3] = 'ws'\n",
    "nombres[4] = 'wd'\n",
    "nombres[5] = 'Id'\n",
    "nombres[6] = 'Ib'\n",
    "nombres[7] = 'alpha'\n",
    "nombres[8] = 'Ti'\n",
    "\n",
    "ca = importa(archivo,nombres)\n",
    "# ca.columns"
   ]
  },
  {
   "cell_type": "code",
   "execution_count": 16,
   "metadata": {},
   "outputs": [
    {
     "data": {
      "text/plain": [
       "DatetimeIndex(['2019-05-25 00:00:00', '2019-05-25 00:10:00',\n",
       "               '2019-05-25 00:20:00', '2019-05-25 00:30:00',\n",
       "               '2019-05-25 00:40:00', '2019-05-25 00:50:00',\n",
       "               '2019-05-25 01:00:00', '2019-05-25 01:10:00',\n",
       "               '2019-05-25 01:20:00', '2019-05-25 01:30:00',\n",
       "               ...\n",
       "               '2019-06-23 22:20:00', '2019-06-23 22:30:00',\n",
       "               '2019-06-23 22:40:00', '2019-06-23 22:50:00',\n",
       "               '2019-06-23 23:00:00', '2019-06-23 23:10:00',\n",
       "               '2019-06-23 23:20:00', '2019-06-23 23:30:00',\n",
       "               '2019-06-23 23:40:00', '2019-06-23 23:50:00'],\n",
       "              dtype='datetime64[ns]', name='tiempo', length=4320, freq='600S')"
      ]
     },
     "execution_count": 16,
     "metadata": {},
     "output_type": "execute_result"
    }
   ],
   "source": [
    "ca = ca.resample(\"600S\").interpolate(method='time')\n",
    "ca.index"
   ]
  },
  {
   "cell_type": "code",
   "execution_count": 17,
   "metadata": {},
   "outputs": [],
   "source": [
    "ca.to_csv(\"../data/processed/C_ca.csv\")"
   ]
  },
  {
   "cell_type": "markdown",
   "metadata": {},
   "source": [
    "# Gr'aficas"
   ]
  },
  {
   "cell_type": "code",
   "execution_count": 19,
   "metadata": {},
   "outputs": [
    {
     "data": {
      "text/plain": [
       "<matplotlib.legend.Legend at 0x11a0ec250>"
      ]
     },
     "execution_count": 19,
     "metadata": {},
     "output_type": "execute_result"
    },
    {
     "data": {
      "image/png": "[encoded data removed]",
      "text/plain": [
       "<Figure size 1080x432 with 1 Axes>"
      ]
     },
     "metadata": {
      "needs_background": "light"
     },
     "output_type": "display_data"
    }
   ],
   "source": [
    "fig, ax  = plt.subplots(figsize=(15,6),sharex=True)\n",
    "fecha1 = parse(\"2019-06-08\")\n",
    "fecha2 = fecha1 + pd.Timedelta(\"2D\")\n",
    "\n",
    "ax.set_xlim(fecha1,fecha2)\n",
    "ax.set_ylim(15,35)\n",
    "\n",
    "ax.plot(datos.To_esolmet,'r-',lw=3,label='To')\n",
    "ax.plot(datos.Ti,        'k-',lw=3,label='Ti')\n",
    "\n",
    "\n",
    "ax.plot(za.Ti,'ko:',label=\"Sim C1\",markevery=10)\n",
    "ax.plot(ae.Ti,'bo:',label=\"Sim C2\",markevery=10)\n",
    "ax.plot(bm.Ti,'ko:',label=\"Sim C3\",markevery=10)\n",
    "ax.plot(ca.Ti,'yo:',label=\"Sim C4\",markevery=10)\n",
    "\n",
    "ax.legend()"
   ]
  },
  {
   "cell_type": "code",
   "execution_count": null,
   "metadata": {},
   "outputs": [],
   "source": []
  },
  {
   "cell_type": "code",
   "execution_count": null,
   "metadata": {},
   "outputs": [],
   "source": []
  },
  {
   "cell_type": "code",
   "execution_count": null,
   "metadata": {},
   "outputs": [],
   "source": []
  },
  {
   "cell_type": "code",
   "execution_count": null,
   "metadata": {},
   "outputs": [],
   "source": []
  },
  {
   "cell_type": "code",
   "execution_count": null,
   "metadata": {},
   "outputs": [],
   "source": []
  },
  {
   "cell_type": "code",
   "execution_count": null,
   "metadata": {},
   "outputs": [],
   "source": []
  },
  {
   "cell_type": "markdown",
   "metadata": {},
   "source": [
    "#  Actividades\n",
    "## * Importar datos experimentales y numéricos [data cleaning]\n",
    "## * Visualización de series temporales\n",
    "## * Uso de métricas para seleccionar mejor conjunto de datos experimentales\n",
    "## * Uso de clases\n",
    "## * Seleccionar el mejor conjunto de datos\n",
    "\n"
   ]
  },
  {
   "cell_type": "code",
   "execution_count": null,
   "metadata": {},
   "outputs": [],
   "source": []
  },
  {
   "cell_type": "code",
   "execution_count": null,
   "metadata": {},
   "outputs": [],
   "source": []
  },
  {
   "cell_type": "code",
   "execution_count": null,
   "metadata": {},
   "outputs": [],
   "source": []
  },
  {
   "cell_type": "code",
   "execution_count": null,
   "metadata": {},
   "outputs": [],
   "source": []
  },
  {
   "cell_type": "code",
   "execution_count": null,
   "metadata": {},
   "outputs": [],
   "source": []
  },
  {
   "cell_type": "markdown",
   "metadata": {},
   "source": [
    "# Comparación de datos experimentales y simulados: Selección del mejor conjunto de datos simulados\n",
    "\n",
    "## Guillermo Barrios del Valle"
   ]
  },
  {
   "cell_type": "code",
   "execution_count": null,
   "metadata": {},
   "outputs": [],
   "source": []
  }
 ],
 "metadata": {
  "kernelspec": {
   "display_name": "Python 3",
   "language": "python",
   "name": "python3"
  },
  "language_info": {
   "codemirror_mode": {
    "name": "ipython",
    "version": 3
   },
   "file_extension": ".py",
   "mimetype": "text/x-python",
   "name": "python",
   "nbconvert_exporter": "python",
   "pygments_lexer": "ipython3",
   "version": "3.8.5"
  }
 },
 "nbformat": 4,
 "nbformat_minor": 2
}
