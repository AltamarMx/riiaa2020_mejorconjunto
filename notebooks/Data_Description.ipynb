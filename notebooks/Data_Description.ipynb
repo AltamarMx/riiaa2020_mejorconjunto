{
 "cells": [
  {
   "cell_type": "markdown",
   "metadata": {},
   "source": [
    "Mediciones\n",
    "nombres_DATA.txt    contiene lista de nombres\n",
    "DATA.csv            datos experimentales de temperatura\n",
    "RUOA.txt            estación meteorológica\n",
    "ESOLMET_2019.xlsx   estación meteorológica en XLS\n",
    "\n",
    "Simulaciones numéricas\n",
    "za.csv              simulaciones de Zyanya y Alejandro\n",
    "ae.csv              simulaciones de Astrid y Spezzia\n",
    "bm.csv              simulaciones de Benita y Medel\n",
    "ca.csv              simulaciones de Carmona y Augusto"
   ]
  },
  {
   "cell_type": "markdown",
   "metadata": {},
   "source": [
    "\n",
    "# Definir fechas para trabajar, fines de semana entre las fechas 2019-06-09  y 2019-06-25\n",
    "\n",
    "Las fechas son: 2019-06-09, 2019-06-15, 2019-06-22,2019-06-23"
   ]
  },
  {
   "cell_type": "code",
   "execution_count": null,
   "metadata": {},
   "outputs": [],
   "source": []
  }
 ],
 "metadata": {
  "kernelspec": {
   "display_name": "Python 3",
   "language": "python",
   "name": "python3"
  },
  "language_info": {
   "codemirror_mode": {
    "name": "ipython",
    "version": 3
   },
   "file_extension": ".py",
   "mimetype": "text/x-python",
   "name": "python",
   "nbconvert_exporter": "python",
   "pygments_lexer": "ipython3",
   "version": "3.8.5"
  }
 },
 "nbformat": 4,
 "nbformat_minor": 4
}
